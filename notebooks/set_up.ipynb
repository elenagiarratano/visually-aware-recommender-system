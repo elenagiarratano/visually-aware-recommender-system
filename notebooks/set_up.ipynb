{
 "cells": [
  {
   "cell_type": "markdown",
   "metadata": {},
   "source": [
    "# Get ready!\n",
    "\n",
    "\n",
    "## Set up\n",
    "\n",
    "Bring your laptop with running installation of **Python 3.6**. You'll need to have a Jupyter kernel linked to a proper Conda environment. \n",
    "\n",
    "If you don't know what I am talking about, discover it here:\n",
    " * [Beginner’s Guide for installing Jupyter Notebook using Anaconda Distribution](https://medium.com/@neuralnets/beginners-quick-guide-for-handling-issues-launching-jupyter-notebook-for-python-using-anaconda-8be3d57a209b)\n",
    " * [Anaconda, Jupyter Notebook, TensorFlow and Keras for Deep Learning](https://medium.com/@margaretmz/anaconda-jupyter-notebook-tensorflow-and-keras-b91f381405f8)\n",
    "\n",
    "If you already feel me, here listed the packages you'll need to translate your standard conda DS environment into a DL environment suitable for this use case:"
   ]
  },
  {
   "cell_type": "code",
   "execution_count": null,
   "metadata": {
    "collapsed": true
   },
   "outputs": [],
   "source": [
    "!pip install --upgrade pip\n",
    "!pip install ipynb\n",
    "!pip install Pillow==5.2.0\n",
    "!pip install tensorflow==1.12.0\n",
    "!pip install keras==2.2.4"
   ]
  },
  {
   "cell_type": "markdown",
   "metadata": {},
   "source": [
    "Either way, find the full list of packages installed in our conda environment in the *requirements.txt* text file – you won't need all of them! Check your env by running all the import statements below: if you don't get errors, you're ready to go!"
   ]
  },
  {
   "cell_type": "code",
   "execution_count": null,
   "metadata": {
    "collapsed": false
   },
   "outputs": [],
   "source": [
    "import os\n",
    "import sys\n",
    "from io import StringIO, BytesIO\n",
    "import requests\n",
    "\n",
    "import logging\n",
    "from IPython.display import display\n",
    "\n",
    "import random\n",
    "import numpy as np\n",
    "import pandas as pd\n",
    "from datetime import datetime, timedelta\n",
    "from pytz import timezone\n",
    "\n",
    "from PIL import Image\n",
    "\n",
    "import keras"
   ]
  },
  {
   "cell_type": "markdown",
   "metadata": {},
   "source": [
    "## Download the data\n",
    "\n",
    "Download the data via"
   ]
  },
  {
   "cell_type": "code",
   "execution_count": null,
   "metadata": {
    "collapsed": true
   },
   "outputs": [],
   "source": [
    "wget http://cseweb.ucsd.edu/~wckang/DVBPR/AmazonFashion6ImgPartitioned.npy"
   ]
  },
  {
   "cell_type": "markdown",
   "metadata": {},
   "source": [
    "and move it to the */data/* directory."
   ]
  }
 ],
 "metadata": {
  "kernelspec": {
   "display_name": "(Python 3.6) DL Tensorflow",
   "language": "python",
   "name": "dl-tensorflow"
  },
  "language_info": {
   "codemirror_mode": {
    "name": "ipython",
    "version": 3
   },
   "file_extension": ".py",
   "mimetype": "text/x-python",
   "name": "python",
   "nbconvert_exporter": "python",
   "pygments_lexer": "ipython3",
   "version": "3.6.8"
  }
 },
 "nbformat": 4,
 "nbformat_minor": 2
}
